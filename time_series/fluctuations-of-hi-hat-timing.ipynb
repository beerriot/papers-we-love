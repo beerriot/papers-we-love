{
 "cells": [
  {
   "cell_type": "markdown",
   "metadata": {},
   "source": [
    "# Fluctuations of Hi-Hat Timing and Dynamics in a Virtuoso Drum Track of a Popular Music Recording\n",
    "\n",
    "## [Paper](http://journals.plos.org/plosone/article?id=10.1371/journal.pone.0127902) by Esa Räsänen , Otto Pulkkinen, Tuomas Virtanen, Manfred Zollner, Holger Hennig\n",
    "\n",
    "## Papers We Love presentation by Bryan Fink, January 21, 2016",
    "\n",
    "Download images and data from the paper link above."
   ]
  },
  {
   "cell_type": "markdown",
   "metadata": {},
   "source": [
    "### Intro score\n",
    "<img src=\"files/journal.pone.0127902.g007.PNG\" />\n",
    "\"I Keep Forgettin'\" as played by Jeff Porcaro"
   ]
  },
  {
   "cell_type": "markdown",
   "metadata": {},
   "source": [
    "### Hit detection\n",
    "<img src=\"files/journal.pone.0127902.g001.PNG\" />\n",
    "Images from the original paper"
   ]
  },
  {
   "cell_type": "markdown",
   "metadata": {},
   "source": [
    "### Notebook setup"
   ]
  },
  {
   "cell_type": "code",
   "execution_count": 55,
   "metadata": {
    "collapsed": true
   },
   "outputs": [],
   "source": [
    "%matplotlib inline\n",
    "\n",
    "import numpy as np               # useful general math functions\n",
    "import pandas as pd              # useful timeseries functions\n",
    "import matplotlib.pyplot as plt  # graphical plotting\n",
    "import statsmodels.api as sm     # regression analysis\n",
    "import scipy.optimize as spo     # more regression analysis\n",
    "\n",
    "plt.style.use('ggplot')          # make our graphs look nicer"
   ]
  },
  {
   "cell_type": "markdown",
   "metadata": {},
   "source": [
    "### Import data"
   ]
  },
  {
   "cell_type": "code",
   "execution_count": 56,
   "metadata": {
    "collapsed": false
   },
   "outputs": [
    {
     "data": {
      "text/html": [
       "<div>\n",
       "<table border=\"1\" class=\"dataframe\">\n",
       "  <thead>\n",
       "    <tr style=\"text-align: right;\">\n",
       "      <th></th>\n",
       "      <th>onset</th>\n",
       "      <th>amplitude</th>\n",
       "    </tr>\n",
       "  </thead>\n",
       "  <tbody>\n",
       "    <tr>\n",
       "      <th>0</th>\n",
       "      <td>0.109</td>\n",
       "      <td>0.310</td>\n",
       "    </tr>\n",
       "    <tr>\n",
       "      <th>1</th>\n",
       "      <td>0.440</td>\n",
       "      <td>0.402</td>\n",
       "    </tr>\n",
       "    <tr>\n",
       "      <th>2</th>\n",
       "      <td>0.574</td>\n",
       "      <td>0.038</td>\n",
       "    </tr>\n",
       "    <tr>\n",
       "      <th>3</th>\n",
       "      <td>0.742</td>\n",
       "      <td>0.063</td>\n",
       "    </tr>\n",
       "    <tr>\n",
       "      <th>4</th>\n",
       "      <td>0.895</td>\n",
       "      <td>0.044</td>\n",
       "    </tr>\n",
       "  </tbody>\n",
       "</table>\n",
       "</div>"
      ],
      "text/plain": [
       "   onset  amplitude\n",
       "0  0.109      0.310\n",
       "1  0.440      0.402\n",
       "2  0.574      0.038\n",
       "3  0.742      0.063\n",
       "4  0.895      0.044"
      ]
     },
     "execution_count": 56,
     "metadata": {},
     "output_type": "execute_result"
    }
   ],
   "source": [
    "drumdata = pd.read_csv('data/S1_Dataset.txt')\n",
    "drumdata.head(5)"
   ]
  },
  {
   "cell_type": "code",
   "execution_count": 57,
   "metadata": {
    "collapsed": false
   },
   "outputs": [
    {
     "data": {
      "text/html": [
       "<div>\n",
       "<table border=\"1\" class=\"dataframe\">\n",
       "  <thead>\n",
       "    <tr style=\"text-align: right;\">\n",
       "      <th></th>\n",
       "      <th>onset</th>\n",
       "      <th>amplitude</th>\n",
       "    </tr>\n",
       "  </thead>\n",
       "  <tbody>\n",
       "    <tr>\n",
       "      <th>0</th>\n",
       "      <td>0.000</td>\n",
       "      <td>0.310</td>\n",
       "    </tr>\n",
       "    <tr>\n",
       "      <th>1</th>\n",
       "      <td>0.331</td>\n",
       "      <td>0.402</td>\n",
       "    </tr>\n",
       "    <tr>\n",
       "      <th>2</th>\n",
       "      <td>0.465</td>\n",
       "      <td>0.038</td>\n",
       "    </tr>\n",
       "    <tr>\n",
       "      <th>3</th>\n",
       "      <td>0.633</td>\n",
       "      <td>0.063</td>\n",
       "    </tr>\n",
       "    <tr>\n",
       "      <th>4</th>\n",
       "      <td>0.786</td>\n",
       "      <td>0.044</td>\n",
       "    </tr>\n",
       "  </tbody>\n",
       "</table>\n",
       "</div>"
      ],
      "text/plain": [
       "   onset  amplitude\n",
       "0  0.000      0.310\n",
       "1  0.331      0.402\n",
       "2  0.465      0.038\n",
       "3  0.633      0.063\n",
       "4  0.786      0.044"
      ]
     },
     "execution_count": 57,
     "metadata": {},
     "output_type": "execute_result"
    }
   ],
   "source": [
    "# shift time such that the first hit is at time zero\n",
    "drumdata.onset = drumdata.onset - drumdata.onset[0]\n",
    "drumdata.head(5)"
   ]
  },
  {
   "cell_type": "markdown",
   "metadata": {},
   "source": [
    "### Calculating and scrubbing intervals"
   ]
  },
  {
   "cell_type": "code",
   "execution_count": 58,
   "metadata": {
    "collapsed": false
   },
   "outputs": [
    {
     "data": {
      "text/html": [
       "<div>\n",
       "<table border=\"1\" class=\"dataframe\">\n",
       "  <thead>\n",
       "    <tr style=\"text-align: right;\">\n",
       "      <th></th>\n",
       "      <th>onset</th>\n",
       "      <th>amplitude</th>\n",
       "      <th>interval</th>\n",
       "    </tr>\n",
       "  </thead>\n",
       "  <tbody>\n",
       "    <tr>\n",
       "      <th>0</th>\n",
       "      <td>0.000</td>\n",
       "      <td>0.310</td>\n",
       "      <td>0.331</td>\n",
       "    </tr>\n",
       "    <tr>\n",
       "      <th>1</th>\n",
       "      <td>0.331</td>\n",
       "      <td>0.402</td>\n",
       "      <td>0.134</td>\n",
       "    </tr>\n",
       "    <tr>\n",
       "      <th>2</th>\n",
       "      <td>0.465</td>\n",
       "      <td>0.038</td>\n",
       "      <td>0.168</td>\n",
       "    </tr>\n",
       "    <tr>\n",
       "      <th>3</th>\n",
       "      <td>0.633</td>\n",
       "      <td>0.063</td>\n",
       "      <td>0.153</td>\n",
       "    </tr>\n",
       "    <tr>\n",
       "      <th>4</th>\n",
       "      <td>0.786</td>\n",
       "      <td>0.044</td>\n",
       "      <td>0.163</td>\n",
       "    </tr>\n",
       "  </tbody>\n",
       "</table>\n",
       "</div>"
      ],
      "text/plain": [
       "   onset  amplitude  interval\n",
       "0  0.000      0.310     0.331\n",
       "1  0.331      0.402     0.134\n",
       "2  0.465      0.038     0.168\n",
       "3  0.633      0.063     0.153\n",
       "4  0.786      0.044     0.163"
      ]
     },
     "execution_count": 58,
     "metadata": {},
     "output_type": "execute_result"
    }
   ],
   "source": [
    "drumdata['interval'] = -1 * drumdata.onset.diff(-1)\n",
    "drumdata.head(5)"
   ]
  },
  {
   "cell_type": "code",
   "execution_count": 59,
   "metadata": {
    "collapsed": false
   },
   "outputs": [
    {
     "data": {
      "text/plain": [
       "0.15"
      ]
     },
     "execution_count": 59,
     "metadata": {},
     "output_type": "execute_result"
    }
   ],
   "source": [
    "bpm = 100.0\n",
    "opb = 4.0\n",
    "spm = 60.0\n",
    "expected_interval = 1 / (opb * bpm / 60.0)\n",
    "expected_interval"
   ]
  },
  {
   "cell_type": "code",
   "execution_count": 60,
   "metadata": {
    "collapsed": false
   },
   "outputs": [
    {
     "data": {
      "text/plain": [
       "(930, 0.22499999999999998, 708, 0.19400000000001683, 222, 0.26899999999997704)"
      ]
     },
     "execution_count": 60,
     "metadata": {},
     "output_type": "execute_result"
    }
   ],
   "source": [
    "threshold = expected_interval * 1.5\n",
    "under_threshold = drumdata.interval.where(drumdata.interval < threshold)\n",
    "over_threshold = drumdata.interval.where(drumdata.interval > threshold)\n",
    "\n",
    "(drumdata.interval.count(), threshold,\n",
    " under_threshold.count(), under_threshold.max(),\n",
    " over_threshold.count(), over_threshold.min())"
   ]
  },
  {
   "cell_type": "code",
   "execution_count": 61,
   "metadata": {
    "collapsed": false
   },
   "outputs": [
    {
     "data": {
      "text/plain": [
       "0.1565607344632769"
      ]
     },
     "execution_count": 61,
     "metadata": {},
     "output_type": "execute_result"
    }
   ],
   "source": [
    "under_threshold.mean()"
   ]
  },
  {
   "cell_type": "markdown",
   "metadata": {},
   "source": [
    "### Interval distribution"
   ]
  },
  {
   "cell_type": "code",
   "execution_count": 62,
   "metadata": {
    "collapsed": false
   },
   "outputs": [
    {
     "data": {
      "text/plain": [
       "<matplotlib.axes._subplots.AxesSubplot at 0x10c49f790>"
      ]
     },
     "execution_count": 62,
     "metadata": {},
     "output_type": "execute_result"
    },
    {
     "data": {
      "image/png": "[encoded data removed]",
      "text/plain": [
       "<matplotlib.figure.Figure at 0x10c49f450>"
      ]
     },
     "metadata": {},
     "output_type": "display_data"
    }
   ],
   "source": [
    "plt.figure(figsize=(8,6))\n",
    "under_threshold.plot()"
   ]
  },
  {
   "cell_type": "code",
   "execution_count": 63,
   "metadata": {
    "collapsed": false
   },
   "outputs": [
    {
     "data": {
      "text/plain": [
       "<matplotlib.axes._subplots.AxesSubplot at 0x10d1c48d0>"
      ]
     },
     "execution_count": 63,
     "metadata": {},
     "output_type": "execute_result"
    },
    {
     "data": {
      "image/png": "[encoded data removed]",
      "text/plain": [
       "<matplotlib.figure.Figure at 0x10d1c4190>"
      ]
     },
     "metadata": {},
     "output_type": "display_data"
    }
   ],
   "source": [
    "plt.figure(figsize=(8,6))\n",
    "under_threshold.hist(bins=33)"
   ]
  },
  {
   "cell_type": "markdown",
   "metadata": {},
   "source": [
    "### Drift"
   ]
  },
  {
   "cell_type": "code",
   "execution_count": 64,
   "metadata": {
    "collapsed": false
   },
   "outputs": [
    {
     "data": {
      "text/plain": [
       "0    2\n",
       "1    1\n",
       "2    1\n",
       "3    1\n",
       "4    1\n",
       "Name: interval, dtype: float64"
      ]
     },
     "execution_count": 64,
     "metadata": {},
     "output_type": "execute_result"
    }
   ],
   "source": [
    "numclicks = drumdata.interval.div(under_threshold.mean()).round()\n",
    "numclicks.head(5)"
   ]
  },
  {
   "cell_type": "code",
   "execution_count": 65,
   "metadata": {
    "collapsed": false
   },
   "outputs": [
    {
     "data": {
      "text/html": [
       "<div>\n",
       "<table border=\"1\" class=\"dataframe\">\n",
       "  <thead>\n",
       "    <tr style=\"text-align: right;\">\n",
       "      <th></th>\n",
       "      <th>onset</th>\n",
       "      <th>amplitude</th>\n",
       "      <th>interval</th>\n",
       "      <th>click_idx</th>\n",
       "    </tr>\n",
       "  </thead>\n",
       "  <tbody>\n",
       "    <tr>\n",
       "      <th>0</th>\n",
       "      <td>0.000</td>\n",
       "      <td>0.310</td>\n",
       "      <td>0.331</td>\n",
       "      <td>0</td>\n",
       "    </tr>\n",
       "    <tr>\n",
       "      <th>1</th>\n",
       "      <td>0.331</td>\n",
       "      <td>0.402</td>\n",
       "      <td>0.134</td>\n",
       "      <td>2</td>\n",
       "    </tr>\n",
       "    <tr>\n",
       "      <th>2</th>\n",
       "      <td>0.465</td>\n",
       "      <td>0.038</td>\n",
       "      <td>0.168</td>\n",
       "      <td>3</td>\n",
       "    </tr>\n",
       "    <tr>\n",
       "      <th>3</th>\n",
       "      <td>0.633</td>\n",
       "      <td>0.063</td>\n",
       "      <td>0.153</td>\n",
       "      <td>4</td>\n",
       "    </tr>\n",
       "    <tr>\n",
       "      <th>4</th>\n",
       "      <td>0.786</td>\n",
       "      <td>0.044</td>\n",
       "      <td>0.163</td>\n",
       "      <td>5</td>\n",
       "    </tr>\n",
       "  </tbody>\n",
       "</table>\n",
       "</div>"
      ],
      "text/plain": [
       "   onset  amplitude  interval  click_idx\n",
       "0  0.000      0.310     0.331          0\n",
       "1  0.331      0.402     0.134          2\n",
       "2  0.465      0.038     0.168          3\n",
       "3  0.633      0.063     0.153          4\n",
       "4  0.786      0.044     0.163          5"
      ]
     },
     "execution_count": 65,
     "metadata": {},
     "output_type": "execute_result"
    }
   ],
   "source": [
    "drumdata['click_idx'] = numclicks.cumsum().shift()\n",
    "drumdata['click_idx'][0] = 0\n",
    "drumdata.head(5)"
   ]
  },
  {
   "cell_type": "code",
   "execution_count": 66,
   "metadata": {
    "collapsed": false
   },
   "outputs": [
    {
     "data": {
      "text/plain": [
       "0.15749778106508874"
      ]
     },
     "execution_count": 66,
     "metadata": {},
     "output_type": "execute_result"
    }
   ],
   "source": [
    "mean_interval = drumdata.interval.sum()/numclicks.sum()\n",
    "mean_interval"
   ]
  },
  {
   "cell_type": "code",
   "execution_count": 67,
   "metadata": {
    "collapsed": false
   },
   "outputs": [
    {
     "data": {
      "text/html": [
       "<div>\n",
       "<table border=\"1\" class=\"dataframe\">\n",
       "  <thead>\n",
       "    <tr style=\"text-align: right;\">\n",
       "      <th></th>\n",
       "      <th>onset</th>\n",
       "      <th>amplitude</th>\n",
       "      <th>interval</th>\n",
       "      <th>click_idx</th>\n",
       "      <th>expected_onset</th>\n",
       "    </tr>\n",
       "  </thead>\n",
       "  <tbody>\n",
       "    <tr>\n",
       "      <th>0</th>\n",
       "      <td>0.000</td>\n",
       "      <td>0.310</td>\n",
       "      <td>0.331</td>\n",
       "      <td>0</td>\n",
       "      <td>0.000000</td>\n",
       "    </tr>\n",
       "    <tr>\n",
       "      <th>1</th>\n",
       "      <td>0.331</td>\n",
       "      <td>0.402</td>\n",
       "      <td>0.134</td>\n",
       "      <td>2</td>\n",
       "      <td>0.314996</td>\n",
       "    </tr>\n",
       "    <tr>\n",
       "      <th>2</th>\n",
       "      <td>0.465</td>\n",
       "      <td>0.038</td>\n",
       "      <td>0.168</td>\n",
       "      <td>3</td>\n",
       "      <td>0.472493</td>\n",
       "    </tr>\n",
       "    <tr>\n",
       "      <th>3</th>\n",
       "      <td>0.633</td>\n",
       "      <td>0.063</td>\n",
       "      <td>0.153</td>\n",
       "      <td>4</td>\n",
       "      <td>0.629991</td>\n",
       "    </tr>\n",
       "    <tr>\n",
       "      <th>4</th>\n",
       "      <td>0.786</td>\n",
       "      <td>0.044</td>\n",
       "      <td>0.163</td>\n",
       "      <td>5</td>\n",
       "      <td>0.787489</td>\n",
       "    </tr>\n",
       "  </tbody>\n",
       "</table>\n",
       "</div>"
      ],
      "text/plain": [
       "   onset  amplitude  interval  click_idx  expected_onset\n",
       "0  0.000      0.310     0.331          0        0.000000\n",
       "1  0.331      0.402     0.134          2        0.314996\n",
       "2  0.465      0.038     0.168          3        0.472493\n",
       "3  0.633      0.063     0.153          4        0.629991\n",
       "4  0.786      0.044     0.163          5        0.787489"
      ]
     },
     "execution_count": 67,
     "metadata": {},
     "output_type": "execute_result"
    }
   ],
   "source": [
    "drumdata['expected_onset'] = drumdata.click_idx * mean_interval\n",
    "drumdata.head(5)"
   ]
  },
  {
   "cell_type": "code",
   "execution_count": 68,
   "metadata": {
    "collapsed": false
   },
   "outputs": [
    {
     "data": {
      "text/plain": [
       "<matplotlib.axes._subplots.AxesSubplot at 0x10d75c450>"
      ]
     },
     "execution_count": 68,
     "metadata": {},
     "output_type": "execute_result"
    },
    {
     "data": {
      "image/png": "[encoded data removed]",
      "text/plain": [
       "<matplotlib.figure.Figure at 0x10bfb4f10>"
      ]
     },
     "metadata": {},
     "output_type": "display_data"
    }
   ],
   "source": [
    "plt.figure(figsize=(8,6))\n",
    "(drumdata.onset - drumdata.expected_onset).plot()"
   ]
  },
  {
   "cell_type": "markdown",
   "metadata": {},
   "source": [
    "### Return time"
   ]
  },
  {
   "cell_type": "code",
   "execution_count": 69,
   "metadata": {
    "collapsed": false
   },
   "outputs": [
    {
     "data": {
      "text/plain": [
       "<matplotlib.axes._subplots.AxesSubplot at 0x10e2430d0>"
      ]
     },
     "execution_count": 69,
     "metadata": {},
     "output_type": "execute_result"
    },
    {
     "data": {
      "text/plain": [
       "<matplotlib.figure.Figure at 0x10d4aa790>"
      ]
     },
     "metadata": {},
     "output_type": "display_data"
    },
    {
     "data": {
      "image/png": "[encoded data removed]",
      "text/plain": [
       "<matplotlib.figure.Figure at 0x10d7df2d0>"
      ]
     },
     "metadata": {},
     "output_type": "display_data"
    }
   ],
   "source": [
    "drumdata['ut_interval_dev'] = under_threshold - under_threshold.mean()\n",
    "drumdata['ut_last_interval_dev'] = drumdata.ut_interval_dev.shift(-1)\n",
    "\n",
    "plt.figure(figsize=(8,6))\n",
    "drumdata.plot(kind='scatter', x='ut_last_interval_dev', y='ut_interval_dev')"
   ]
  },
  {
   "cell_type": "code",
   "execution_count": 70,
   "metadata": {
    "collapsed": false
   },
   "outputs": [
    {
     "data": {
      "text/plain": [
       "-0.56630170379958833"
      ]
     },
     "execution_count": 70,
     "metadata": {},
     "output_type": "execute_result"
    }
   ],
   "source": [
    "drumdata.ut_interval_dev.autocorr(lag=1)"
   ]
  },
  {
   "cell_type": "markdown",
   "metadata": {},
   "source": [
    "### Detrended Fluctuation Analysis"
   ]
  },
  {
   "cell_type": "code",
   "execution_count": 71,
   "metadata": {
    "collapsed": false
   },
   "outputs": [
    {
     "data": {
      "text/html": [
       "<div>\n",
       "<table border=\"1\" class=\"dataframe\">\n",
       "  <thead>\n",
       "    <tr style=\"text-align: right;\">\n",
       "      <th></th>\n",
       "      <th>onset</th>\n",
       "    </tr>\n",
       "    <tr>\n",
       "      <th>click_idx</th>\n",
       "      <th></th>\n",
       "    </tr>\n",
       "  </thead>\n",
       "  <tbody>\n",
       "    <tr>\n",
       "      <th>0</th>\n",
       "      <td>0.0000</td>\n",
       "    </tr>\n",
       "    <tr>\n",
       "      <th>1</th>\n",
       "      <td>0.1655</td>\n",
       "    </tr>\n",
       "    <tr>\n",
       "      <th>2</th>\n",
       "      <td>0.3310</td>\n",
       "    </tr>\n",
       "    <tr>\n",
       "      <th>3</th>\n",
       "      <td>0.4650</td>\n",
       "    </tr>\n",
       "    <tr>\n",
       "      <th>4</th>\n",
       "      <td>0.6330</td>\n",
       "    </tr>\n",
       "  </tbody>\n",
       "</table>\n",
       "</div>"
      ],
      "text/plain": [
       "            onset\n",
       "click_idx        \n",
       "0          0.0000\n",
       "1          0.1655\n",
       "2          0.3310\n",
       "3          0.4650\n",
       "4          0.6330"
      ]
     },
     "execution_count": 71,
     "metadata": {},
     "output_type": "execute_result"
    }
   ],
   "source": [
    "clickdata = drumdata[['onset', 'click_idx']].set_index('click_idx').reindex(range(0,int(drumdata.click_idx.max()))).interpolate()\n",
    "clickdata.head(5)"
   ]
  },
  {
   "cell_type": "code",
   "execution_count": 72,
   "metadata": {
    "collapsed": false
   },
   "outputs": [
    {
     "data": {
      "text/html": [
       "<div>\n",
       "<table border=\"1\" class=\"dataframe\">\n",
       "  <thead>\n",
       "    <tr style=\"text-align: right;\">\n",
       "      <th></th>\n",
       "      <th>onset</th>\n",
       "      <th>interval</th>\n",
       "      <th>interval_dev</th>\n",
       "    </tr>\n",
       "    <tr>\n",
       "      <th>click_idx</th>\n",
       "      <th></th>\n",
       "      <th></th>\n",
       "      <th></th>\n",
       "    </tr>\n",
       "  </thead>\n",
       "  <tbody>\n",
       "    <tr>\n",
       "      <th>0</th>\n",
       "      <td>0.0000</td>\n",
       "      <td>0.1655</td>\n",
       "      <td>0.008002</td>\n",
       "    </tr>\n",
       "    <tr>\n",
       "      <th>1</th>\n",
       "      <td>0.1655</td>\n",
       "      <td>0.1655</td>\n",
       "      <td>0.008002</td>\n",
       "    </tr>\n",
       "    <tr>\n",
       "      <th>2</th>\n",
       "      <td>0.3310</td>\n",
       "      <td>0.1340</td>\n",
       "      <td>-0.023498</td>\n",
       "    </tr>\n",
       "    <tr>\n",
       "      <th>3</th>\n",
       "      <td>0.4650</td>\n",
       "      <td>0.1680</td>\n",
       "      <td>0.010502</td>\n",
       "    </tr>\n",
       "    <tr>\n",
       "      <th>4</th>\n",
       "      <td>0.6330</td>\n",
       "      <td>0.1530</td>\n",
       "      <td>-0.004498</td>\n",
       "    </tr>\n",
       "  </tbody>\n",
       "</table>\n",
       "</div>"
      ],
      "text/plain": [
       "            onset  interval  interval_dev\n",
       "click_idx                                \n",
       "0          0.0000    0.1655      0.008002\n",
       "1          0.1655    0.1655      0.008002\n",
       "2          0.3310    0.1340     -0.023498\n",
       "3          0.4650    0.1680      0.010502\n",
       "4          0.6330    0.1530     -0.004498"
      ]
     },
     "execution_count": 72,
     "metadata": {},
     "output_type": "execute_result"
    }
   ],
   "source": [
    "clickdata['interval'] = -1 * clickdata.onset.diff(-1)\n",
    "clickdata['interval_dev'] = clickdata.interval - mean_interval\n",
    "clickdata.head(5)"
   ]
  },
  {
   "cell_type": "code",
   "execution_count": 73,
   "metadata": {
    "collapsed": false
   },
   "outputs": [
    {
     "data": {
      "text/html": [
       "<div>\n",
       "<table border=\"1\" class=\"dataframe\">\n",
       "  <thead>\n",
       "    <tr style=\"text-align: right;\">\n",
       "      <th></th>\n",
       "      <th>onset</th>\n",
       "      <th>interval</th>\n",
       "      <th>interval_dev</th>\n",
       "      <th>interval_dev_int</th>\n",
       "    </tr>\n",
       "    <tr>\n",
       "      <th>click_idx</th>\n",
       "      <th></th>\n",
       "      <th></th>\n",
       "      <th></th>\n",
       "      <th></th>\n",
       "    </tr>\n",
       "  </thead>\n",
       "  <tbody>\n",
       "    <tr>\n",
       "      <th>0</th>\n",
       "      <td>0.0000</td>\n",
       "      <td>0.1655</td>\n",
       "      <td>0.008002</td>\n",
       "      <td>0.008002</td>\n",
       "    </tr>\n",
       "    <tr>\n",
       "      <th>1</th>\n",
       "      <td>0.1655</td>\n",
       "      <td>0.1655</td>\n",
       "      <td>0.008002</td>\n",
       "      <td>0.016004</td>\n",
       "    </tr>\n",
       "    <tr>\n",
       "      <th>2</th>\n",
       "      <td>0.3310</td>\n",
       "      <td>0.1340</td>\n",
       "      <td>-0.023498</td>\n",
       "      <td>-0.007493</td>\n",
       "    </tr>\n",
       "    <tr>\n",
       "      <th>3</th>\n",
       "      <td>0.4650</td>\n",
       "      <td>0.1680</td>\n",
       "      <td>0.010502</td>\n",
       "      <td>0.003009</td>\n",
       "    </tr>\n",
       "    <tr>\n",
       "      <th>4</th>\n",
       "      <td>0.6330</td>\n",
       "      <td>0.1530</td>\n",
       "      <td>-0.004498</td>\n",
       "      <td>-0.001489</td>\n",
       "    </tr>\n",
       "  </tbody>\n",
       "</table>\n",
       "</div>"
      ],
      "text/plain": [
       "            onset  interval  interval_dev  interval_dev_int\n",
       "click_idx                                                  \n",
       "0          0.0000    0.1655      0.008002          0.008002\n",
       "1          0.1655    0.1655      0.008002          0.016004\n",
       "2          0.3310    0.1340     -0.023498         -0.007493\n",
       "3          0.4650    0.1680      0.010502          0.003009\n",
       "4          0.6330    0.1530     -0.004498         -0.001489"
      ]
     },
     "execution_count": 73,
     "metadata": {},
     "output_type": "execute_result"
    }
   ],
   "source": [
    "# y(i) from the paper\n",
    "clickdata['interval_dev_int'] = clickdata['interval_dev'].cumsum()\n",
    "clickdata.head(5)"
   ]
  },
  {
   "cell_type": "code",
   "execution_count": 74,
   "metadata": {
    "collapsed": false
   },
   "outputs": [
    {
     "data": {
      "text/plain": [
       "<matplotlib.axes._subplots.AxesSubplot at 0x10bcb6fd0>"
      ]
     },
     "execution_count": 74,
     "metadata": {},
     "output_type": "execute_result"
    },
    {
     "data": {
      "image/png": "[encoded data removed]",
      "text/plain": [
       "<matplotlib.figure.Figure at 0x10e3d14d0>"
      ]
     },
     "metadata": {},
     "output_type": "display_data"
    }
   ],
   "source": [
    "# y_s(i) from the paper\n",
    "def segment_regression(range):\n",
    "    return pd.Series(sm.OLS(clickdata.interval_dev_int[range], range).fit().predict(range), range)\n",
    "\n",
    "# F_k(s) from the paper\n",
    "def segment_fluctuation(k, s):\n",
    "    x = range(k*s, k*s+s)\n",
    "    return np.sqrt(((clickdata.interval_dev_int[x] - segment_regression(x))**2).sum() / s)\n",
    "\n",
    "# F(s)\n",
    "def fluctuation(s):\n",
    "    return pd.Series(range(0, clickdata.interval_dev_int.count()/s)).map(lambda k: segment_fluctuation(k, s)).mean()\n",
    "\n",
    "segment_sizes = range(6, 200)\n",
    "flucdata = pd.Series(segment_sizes, segment_sizes).map(fluctuation)\n",
    "\n",
    "plt.figure(figsize=(6,6))\n",
    "flucdata.plot()"
   ]
  },
  {
   "cell_type": "code",
   "execution_count": 75,
   "metadata": {
    "collapsed": false
   },
   "outputs": [
    {
     "data": {
      "text/plain": [
       "<matplotlib.axes._subplots.AxesSubplot at 0x10e258810>"
      ]
     },
     "execution_count": 75,
     "metadata": {},
     "output_type": "execute_result"
    },
    {
     "data": {
      "image/png": "[encoded data removed]",
      "text/plain": [
       "<matplotlib.figure.Figure at 0x10e258950>"
      ]
     },
     "metadata": {},
     "output_type": "display_data"
    }
   ],
   "source": [
    "plt.figure(figsize=(6,6))\n",
    "plt.ylim(0.005, 0.040)\n",
    "flucdata.plot(logx=True, logy=True)"
   ]
  },
  {
   "cell_type": "code",
   "execution_count": 76,
   "metadata": {
    "collapsed": false
   },
   "outputs": [
    {
     "data": {
      "text/plain": [
       "<matplotlib.axes._subplots.AxesSubplot at 0x10ea31590>"
      ]
     },
     "execution_count": 76,
     "metadata": {},
     "output_type": "execute_result"
    },
    {
     "data": {
      "image/png": "[encoded data removed]",
      "text/plain": [
       "<matplotlib.figure.Figure at 0x10bfd9a50>"
      ]
     },
     "metadata": {},
     "output_type": "display_data"
    }
   ],
   "source": [
    "# the s**alpha function we're trying to fit to this data\n",
    "def noise_fit(x, a, b):\n",
    "    return np.power(x, a)/b\n",
    "\n",
    "wfopt, wfconv = spo.curve_fit(noise_fit, segment_sizes, flucdata.tolist())\n",
    "plt.figure(figsize=(6,6))\n",
    "plt.ylim(0.005, 0.040)\n",
    "flucdata.plot(logx=True, logy=True)\n",
    "pd.Series(noise_fit(segment_sizes, *wfopt), segment_sizes).plot(logx=True, logy=True)"
   ]
  },
  {
   "cell_type": "code",
   "execution_count": 77,
   "metadata": {
    "collapsed": false
   },
   "outputs": [
    {
     "data": {
      "text/plain": [
       "<matplotlib.axes._subplots.AxesSubplot at 0x10ebf2250>"
      ]
     },
     "execution_count": 77,
     "metadata": {},
     "output_type": "execute_result"
    },
    {
     "data": {
      "image/png": "[encoded data removed]",
      "text/plain": [
       "<matplotlib.figure.Figure at 0x10ebf2d10>"
      ]
     },
     "metadata": {},
     "output_type": "display_data"
    }
   ],
   "source": [
    "smrange = range(flucdata.index.min(),30)\n",
    "smopt, smconv = spo.curve_fit(noise_fit, smrange, flucdata[smrange].tolist())\n",
    "lgrange = range(50,flucdata.index.max())\n",
    "lgopt, lgconv = spo.curve_fit(noise_fit, lgrange, flucdata[lgrange].tolist())\n",
    "\n",
    "plt.figure(figsize=(6,6))\n",
    "plt.ylim(0.005, 0.040)\n",
    "flucdata.plot(logx=True, logy=True)\n",
    "pd.Series(noise_fit(segment_sizes, *smopt), segment_sizes).plot(logx=True, logy=True)\n",
    "pd.Series(noise_fit(segment_sizes, *lgopt), segment_sizes).plot(logx=True, logy=True)"
   ]
  },
  {
   "cell_type": "code",
   "execution_count": 78,
   "metadata": {
    "collapsed": false
   },
   "outputs": [
    {
     "data": {
      "text/plain": [
       "0.44169680907188169"
      ]
     },
     "execution_count": 78,
     "metadata": {},
     "output_type": "execute_result"
    }
   ],
   "source": [
    "smopt[0] # the alpha value that fit"
   ]
  },
  {
   "cell_type": "code",
   "execution_count": 79,
   "metadata": {
    "collapsed": false
   },
   "outputs": [
    {
     "data": {
      "text/plain": [
       "0.72118923722852535"
      ]
     },
     "execution_count": 79,
     "metadata": {},
     "output_type": "execute_result"
    }
   ],
   "source": [
    "lgopt[0]"
   ]
  }
 ],
 "metadata": {
  "kernelspec": {
   "display_name": "Python 2",
   "language": "python",
   "name": "python2"
  },
  "language_info": {
   "codemirror_mode": {
    "name": "ipython",
    "version": 2
   },
   "file_extension": ".py",
   "mimetype": "text/x-python",
   "name": "python",
   "nbconvert_exporter": "python",
   "pygments_lexer": "ipython2",
   "version": "2.7.11"
  }
 },
 "nbformat": 4,
 "nbformat_minor": 0
}
